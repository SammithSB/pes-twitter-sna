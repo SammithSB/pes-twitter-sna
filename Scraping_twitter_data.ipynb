{
  "nbformat": 4,
  "nbformat_minor": 0,
  "metadata": {
    "colab": {
      "name": "Scraping twitter data.ipynb",
      "provenance": [],
      "collapsed_sections": []
    },
    "kernelspec": {
      "name": "python3",
      "display_name": "Python 3"
    },
    "language_info": {
      "name": "python"
    }
  },
  "cells": [
    {
      "cell_type": "code",
      "execution_count": null,
      "metadata": {
        "id": "EaqtacDh-cLZ"
      },
      "outputs": [],
      "source": [
        "#importing necessary libraries\n",
        "import tweepy\n",
        "import pandas as pd\n",
        "import networkx as nx\n",
        "import numpy as np\n",
        "import collections"
      ]
    },
    {
      "cell_type": "code",
      "source": [
        "#sign up for twitter developer account to get these credentials\n",
        "\n",
        "consumer_key=  'XXXXXXXXXXXXXXXXXXXXX'\n",
        "consumer_secret= 'XXXXXXXXXXXXXXXXXXXXXXXXX'\n",
        "access_token= 'XXXXXXXXXXXXXXXXXX'\n",
        "access_token_secret= 'XXXXXXXXXXXXXXXXXXXXXXXXXX'"
      ],
      "metadata": {
        "id": "3sjB6WKg-maY"
      },
      "execution_count": null,
      "outputs": []
    },
    {
      "cell_type": "code",
      "source": [
        "#api connection\n",
        "auth = tweepy.OAuthHandler(consumer_key, consumer_secret)\n",
        "auth.set_access_token(access_token, access_token_secret)\n",
        "api = tweepy.API(auth, wait_on_rate_limit=True, wait_on_rate_limit_notify=True, compression=True)"
      ],
      "metadata": {
        "id": "-P3fEjgu-u89"
      },
      "execution_count": null,
      "outputs": []
    },
    {
      "cell_type": "code",
      "source": [
        "#to get your own account id -\n",
        "me = api.get_user(screen_name = 'gaya3cantshutup') #change to your username\n",
        "me.id"
      ],
      "metadata": {
        "colab": {
          "base_uri": "https://localhost:8080/"
        },
        "id": "c5_2tjm3-0V4",
        "outputId": "4849b33f-ed78-4069-c3ac-a98dc5fb5bee"
      },
      "execution_count": null,
      "outputs": [
        {
          "output_type": "execute_result",
          "data": {
            "text/plain": [
              "1472558789698019330"
            ]
          },
          "metadata": {},
          "execution_count": 5
        }
      ]
    },
    {
      "cell_type": "code",
      "source": [
        "#getting the users that follow me \n",
        "user_list = [\"1472558789698019330\"]\n",
        "follower_list = []\n",
        "for user in user_list:\n",
        "    followers = []\n",
        "    try:\n",
        "        for page in tweepy.Cursor(api.followers_ids, user_id=user).pages():\n",
        "            followers.extend(page)\n",
        "            print(len(followers))\n",
        "    except tweepy.TweepError:\n",
        "        print(\"error\")\n",
        "        continue\n",
        "    follower_list.append(followers)"
      ],
      "metadata": {
        "colab": {
          "base_uri": "https://localhost:8080/"
        },
        "id": "OWCNWsdg-8_S",
        "outputId": "b71bfbdd-00a5-45bd-d756-3c11fb9d667f"
      },
      "execution_count": null,
      "outputs": [
        {
          "output_type": "stream",
          "name": "stdout",
          "text": [
            "102\n"
          ]
        }
      ]
    },
    {
      "cell_type": "markdown",
      "source": [
        "### There are 102 followers, but not all are from PES\n",
        "\n",
        "Manually I have verified that 69 of the 102 are from PES. They will be the first nodes in the network along with me\n",
        "\n",
        "There can be better ways to verify, but since 102 is a small number, I verified it manually using - https://oauth-playground.glitch.me/?id=findUserById&params=%28%27query%21%28%29%7Ebody%21%28%29%7Epath%21%28%21*%7E**id%21%272244994945%27%29%01*_"
      ],
      "metadata": {
        "id": "jFg6WWfd_Ivm"
      }
    },
    {
      "cell_type": "code",
      "source": [
        "#Or use this code to store id: username is a dictionary and check:\n",
        "\n",
        "# dict_pes= dict()\n",
        "# for j in nodes:\n",
        "#   u = api.get_user(j)\n",
        "#   dict_pes[j] = u.screen_name"
      ],
      "metadata": {
        "id": "mbbiOMuSDzav"
      },
      "execution_count": null,
      "outputs": []
    },
    {
      "cell_type": "code",
      "source": [
        "# filtering out only those in PES\n",
        "pes_folks= [1424433180753371139,\n",
        " 1249343092957655042,\n",
        " 1477144962286243849,\n",
        " 1196316777279393792,\n",
        " 1184475769482825728,\n",
        " 1344738920,\n",
        " 1133076940842102784,\n",
        " 1284839845861273602,\n",
        " 1497605466968723504,\n",
        " 1497823537679114241,\n",
        " 958759926549147649,\n",
        " 1429603854,\n",
        " 848901692091506688,\n",
        " 1317498004199256064,\n",
        " 1277807884861009921,\n",
        " 1253945298461708291,\n",
        " 2228020669,\n",
        " 1483029280699588608,\n",
        " 1489178779738013698,\n",
        " 2872401203,\n",
        " 1468957860,\n",
        " 1246014522537603072,\n",
        " 771622961153396736,\n",
        " 1004642350553968640,\n",
        " 746327100257271816,\n",
        " 3274985820,\n",
        " 1071853071142141952,\n",
        " 1287594949228150784,\n",
        " 1192409641273065473,\n",
        " 473729548,\n",
        " 1000797725917499393,\n",
        " 1247213980797427724,\n",
        " 1278655748768063490,\n",
        " 883720758723092480,\n",
        " 902853369332547585,\n",
        " 1473893833461043203,\n",
        " 1249295950549401600,\n",
        " 705763745079791617,\n",
        " 1382680394349236228,\n",
        " 1460180698556297221,\n",
        " 1475691974845886464,\n",
        " 3034153315,\n",
        " 1351451066622119937,\n",
        " 3220242762,\n",
        " 1357736121535397888,\n",
        " 1150712699505897473,\n",
        " 725384293766291456,\n",
        " 1355748483127369730,\n",
        " 850556860411269121,\n",
        " 1303161128873156608,\n",
        " 1273713079587463173,\n",
        " 1280037324504526848,\n",
        " 1248995104817324034,\n",
        " 802416910813933568,\n",
        " 1428587673116037121,\n",
        " 721713204980817927,\n",
        " 1277637088842784769,\n",
        " 2469365941,\n",
        " 1366336069319335943,\n",
        " 1098839084162789376,\n",
        " 780439554784366592,\n",
        " 860040731674775552,\n",
        " 1289636412921229312,\n",
        " 1305910070782251009,\n",
        " 1471504126890557446,\n",
        " 1168038336541286400,\n",
        " 3274572859,\n",
        " 1403983669908303874,\n",
        " 1436187424506277898]"
      ],
      "metadata": {
        "id": "LrrtllbT_HHo"
      },
      "execution_count": null,
      "outputs": []
    },
    {
      "cell_type": "code",
      "source": [
        "#making a df with my id as source and all my followers as target dest\n",
        "df = pd.DataFrame(columns=['source','target'])\n",
        "df['target'] = pes_folks\n",
        "df['source'] = 1472558789698019330 "
      ],
      "metadata": {
        "id": "Xxh6D1oqARG6"
      },
      "execution_count": null,
      "outputs": []
    },
    {
      "cell_type": "code",
      "source": [
        "#getting my followers' followers\n",
        "user_list = list(df['target'])\n",
        "for userID in user_list:\n",
        "    print(userID)\n",
        "    followers = []\n",
        "    follower_list = []\n",
        "\n",
        "    # fetching the user\n",
        "    user = api.get_user(userID)\n",
        "    # fetching the followers_count\n",
        "    followers_count = user.followers_count\n",
        "\n",
        "    try:\n",
        "        for page in tweepy.Cursor(api.followers_ids, user_id=userID).pages():\n",
        "            followers.extend(page)\n",
        "            print(len(followers))\n",
        "            if followers_count >= 250: #Only take first 250 followers to reduce time the script runs\n",
        "                break\n",
        "    except tweepy.TweepError:\n",
        "        print(\"error\")\n",
        "        continue\n",
        "    follower_list.append(followers)\n",
        "    temp = pd.DataFrame(columns=['source', 'target'])\n",
        "    temp['target'] = follower_list[0]\n",
        "    temp['source'] = userID\n",
        "    df = df.append(temp)\n",
        "    df.to_csv(\"networkOfFollowers.csv\", index=False)"
      ],
      "metadata": {
        "colab": {
          "base_uri": "https://localhost:8080/"
        },
        "id": "06ab1TEOAbqe",
        "outputId": "51a0dccb-bd7a-4aea-9583-1261a3d81675"
      },
      "execution_count": null,
      "outputs": [
        {
          "output_type": "stream",
          "name": "stdout",
          "text": [
            "1424433180753371139\n",
            "44\n",
            "1249343092957655042\n",
            "38\n",
            "1477144962286243849\n",
            "12\n",
            "1196316777279393792\n",
            "23\n",
            "1184475769482825728\n",
            "21\n",
            "1344738920\n",
            "76\n",
            "1133076940842102784\n",
            "25\n",
            "1284839845861273602\n",
            "49\n",
            "1497605466968723504\n",
            "66\n",
            "1497823537679114241\n",
            "50\n",
            "958759926549147649\n",
            "81\n",
            "1429603854\n",
            "63\n",
            "848901692091506688\n"
          ]
        },
        {
          "output_type": "stream",
          "name": "stderr",
          "text": [
            "Rate limit reached. Sleeping for: 467\n"
          ]
        },
        {
          "output_type": "stream",
          "name": "stdout",
          "text": [
            "18\n",
            "1317498004199256064\n",
            "40\n",
            "1277807884861009921\n",
            "65\n",
            "1253945298461708291\n",
            "102\n",
            "2228020669\n",
            "25\n",
            "1483029280699588608\n",
            "107\n",
            "1489178779738013698\n",
            "25\n",
            "2872401203\n",
            "190\n",
            "1468957860\n",
            "101\n",
            "1246014522537603072\n",
            "14\n",
            "771622961153396736\n",
            "109\n",
            "1004642350553968640\n",
            "178\n",
            "746327100257271816\n",
            "78\n",
            "3274985820\n",
            "102\n",
            "1071853071142141952\n",
            "53\n",
            "1287594949228150784\n"
          ]
        },
        {
          "output_type": "stream",
          "name": "stderr",
          "text": [
            "Rate limit reached. Sleeping for: 896\n"
          ]
        },
        {
          "output_type": "stream",
          "name": "stdout",
          "text": [
            "38\n",
            "1192409641273065473\n",
            "34\n",
            "473729548\n",
            "77\n",
            "1000797725917499393\n",
            "77\n",
            "1247213980797427724\n",
            "177\n",
            "1278655748768063490\n",
            "128\n",
            "883720758723092480\n",
            "52\n",
            "902853369332547585\n",
            "139\n",
            "1473893833461043203\n",
            "27\n",
            "1249295950549401600\n",
            "92\n",
            "705763745079791617\n",
            "154\n",
            "1382680394349236228\n",
            "48\n",
            "1460180698556297221\n",
            "65\n",
            "1475691974845886464\n",
            "62\n",
            "3034153315\n",
            "188\n",
            "1351451066622119937\n"
          ]
        },
        {
          "output_type": "stream",
          "name": "stderr",
          "text": [
            "Rate limit reached. Sleeping for: 897\n"
          ]
        },
        {
          "output_type": "stream",
          "name": "stdout",
          "text": [
            "41\n",
            "3220242762\n",
            "341\n",
            "1357736121535397888\n",
            "57\n",
            "1150712699505897473\n",
            "254\n",
            "725384293766291456\n",
            "112\n",
            "1355748483127369730\n",
            "87\n",
            "850556860411269121\n",
            "165\n",
            "1303161128873156608\n",
            "58\n",
            "1273713079587463173\n",
            "183\n",
            "1280037324504526848\n",
            "133\n",
            "1248995104817324034\n",
            "139\n",
            "802416910813933568\n",
            "179\n",
            "1428587673116037121\n",
            "64\n",
            "721713204980817927\n",
            "49\n",
            "1277637088842784769\n",
            "59\n",
            "2469365941\n",
            "143\n",
            "1366336069319335943\n"
          ]
        },
        {
          "output_type": "stream",
          "name": "stderr",
          "text": [
            "Rate limit reached. Sleeping for: 896\n"
          ]
        },
        {
          "output_type": "stream",
          "name": "stdout",
          "text": [
            "87\n",
            "1098839084162789376\n",
            "173\n",
            "780439554784366592\n",
            "169\n",
            "860040731674775552\n",
            "165\n",
            "1289636412921229312\n",
            "108\n",
            "1305910070782251009\n",
            "101\n",
            "1471504126890557446\n",
            "64\n",
            "1168038336541286400\n",
            "66\n",
            "3274572859\n",
            "66\n",
            "1403983669908303874\n",
            "88\n",
            "1436187424506277898\n",
            "96\n"
          ]
        }
      ]
    },
    {
      "cell_type": "markdown",
      "source": [
        "The followers' followers data has been appended to the pandas df and has been saved to the file networkOfFollowers.csv\n",
        "After running the code, comment out the above block so that it doesn't run again and use unecessary API get requests"
      ],
      "metadata": {
        "id": "3OxyvG3NA1b6"
      }
    },
    {
      "cell_type": "code",
      "source": [
        "df_saved=pd.read_csv('/content/networkOfFollowers.csv')\n",
        "df_check = df_saved[~df_saved.target.isin(pes_folks)]\n",
        "len(df_check)"
      ],
      "metadata": {
        "colab": {
          "base_uri": "https://localhost:8080/"
        },
        "id": "Zu1JqrdfAynl",
        "outputId": "86c7f29c-2346-4d04-9836-73a07eca457d"
      },
      "execution_count": null,
      "outputs": [
        {
          "output_type": "execute_result",
          "data": {
            "text/plain": [
              "4459"
            ]
          },
          "metadata": {},
          "execution_count": 13
        }
      ]
    },
    {
      "cell_type": "code",
      "source": [
        "new_people= df_check['target']\n",
        "counter=collections.Counter(new_people)\n",
        "unique_new= np.unique(new_people)\n",
        "len(unique_new)"
      ],
      "metadata": {
        "colab": {
          "base_uri": "https://localhost:8080/"
        },
        "id": "Gq2szNzoPb3o",
        "outputId": "eed09882-e310-4a09-a39e-ab317970082f"
      },
      "execution_count": null,
      "outputs": [
        {
          "output_type": "execute_result",
          "data": {
            "text/plain": [
              "2472"
            ]
          },
          "metadata": {},
          "execution_count": 14
        }
      ]
    },
    {
      "cell_type": "code",
      "source": [
        "counter.most_common(50)"
      ],
      "metadata": {
        "colab": {
          "base_uri": "https://localhost:8080/"
        },
        "id": "MhjVT0WiPdOO",
        "outputId": "ed1e40f2-fd49-43a7-a6e9-27f6dceb9e9d"
      },
      "execution_count": null,
      "outputs": [
        {
          "output_type": "execute_result",
          "data": {
            "text/plain": [
              "[(1472558789698019330, 65),\n",
              " (1242738027249586176, 30),\n",
              " (834992149758255104, 27),\n",
              " (2838973913, 25),\n",
              " (831682449864286208, 24),\n",
              " (1300814862130360320, 24),\n",
              " (2876732521, 23),\n",
              " (745566943080394752, 21),\n",
              " (795674214690918400, 21),\n",
              " (1277835126236274688, 21),\n",
              " (3320026471, 20),\n",
              " (833359275233652736, 19),\n",
              " (1251386586383527936, 19),\n",
              " (1471034166439342096, 19),\n",
              " (3221574320, 18),\n",
              " (1154274912703356928, 18),\n",
              " (1139519706698665984, 17),\n",
              " (1379709485325840387, 17),\n",
              " (1268952216267902976, 17),\n",
              " (1146263752125374464, 17),\n",
              " (1282017061573668866, 16),\n",
              " (1135751408802680832, 16),\n",
              " (4168701552, 16),\n",
              " (1104094260263972864, 16),\n",
              " (785833074319818752, 16),\n",
              " (1148825471338991616, 16),\n",
              " (610131860, 15),\n",
              " (1305531562243489793, 15),\n",
              " (827629337809653761, 14),\n",
              " (821685274786856960, 14),\n",
              " (1345469474791591936, 14),\n",
              " (1457724829465935874, 13),\n",
              " (3308507935, 13),\n",
              " (1431620243307188224, 13),\n",
              " (1139124129188073477, 13),\n",
              " (2926993738, 13),\n",
              " (1289935140265680897, 13),\n",
              " (1250017084890726405, 12),\n",
              " (974875971110158336, 12),\n",
              " (3254808349, 12),\n",
              " (1267050143838113794, 12),\n",
              " (1355217587714449409, 12),\n",
              " (1447084409018990595, 12),\n",
              " (719932046726995970, 12),\n",
              " (1267321207801516032, 12),\n",
              " (832973693546545152, 12),\n",
              " (3117377938, 11),\n",
              " (588244470, 11),\n",
              " (1110802279060234241, 11),\n",
              " (893383768324554753, 11)]"
            ]
          },
          "metadata": {},
          "execution_count": 15
        }
      ]
    },
    {
      "cell_type": "markdown",
      "source": [
        "First ID is me, as most people in the pes_folks list also follow me\n",
        "\n",
        "After this, IDs whose frequency is high, has a high probability of being in PES\n",
        "\n",
        "We can use any threshold number but I will use 20 as the threshold"
      ],
      "metadata": {
        "id": "QJNkf8LePg3h"
      }
    },
    {
      "cell_type": "markdown",
      "source": [
        "Run the code to get followers' followers' followers as shown above and use a threshold of 10 to get final nodes"
      ],
      "metadata": {
        "id": "MDKuajKaP4AH"
      }
    },
    {
      "cell_type": "code",
      "source": [
        "#example for one user-\n",
        "user_list_curr = [1242738027249586176]              \n",
        "follower_list = []\n",
        "for user in user_list_curr:\n",
        "    followers = []\n",
        "    try:\n",
        "        for page in tweepy.Cursor(api.followers_ids, user_id=user).pages():\n",
        "            followers.extend(page)\n",
        "            print(len(followers))\n",
        "    except tweepy.TweepError:\n",
        "        print(\"error\")\n",
        "        continue\n",
        "    follower_list.append(followers)"
      ],
      "metadata": {
        "colab": {
          "base_uri": "https://localhost:8080/"
        },
        "id": "a2_oRe3WQVGn",
        "outputId": "da913ae0-47e2-4801-d29c-1be452f95f06"
      },
      "execution_count": null,
      "outputs": [
        {
          "output_type": "stream",
          "name": "stdout",
          "text": [
            "74\n"
          ]
        }
      ]
    },
    {
      "cell_type": "code",
      "source": [
        "df1 = pd.DataFrame(columns=['source','target'])\n",
        "df1['target'] = followers #Set the list of followers as the target column\n",
        "df1['source'] = 1242738027249586176 #Set my user ID as the source \n",
        "\n",
        "#need to add df1 to df_saved and continue adding the new followers of all in user_list (friends that are one level away)"
      ],
      "metadata": {
        "id": "nceL2Jv0QW4p"
      },
      "execution_count": null,
      "outputs": []
    },
    {
      "cell_type": "code",
      "source": [
        "one_level_away=[1472558789698019330,1242738027249586176,834992149758255104,831682449864286208,1300814862130360320,2838973913, \\\n",
        "                2876732521, 745566943080394752,795674214690918400, 1277835126236274688, 3320026471, 1251386586383527936, 3221574320]"
      ],
      "metadata": {
        "id": "mlgQbErGPfzb"
      },
      "execution_count": null,
      "outputs": []
    },
    {
      "cell_type": "markdown",
      "source": [
        ""
      ],
      "metadata": {
        "id": "zxK5MNGWQA-z"
      }
    },
    {
      "cell_type": "code",
      "source": [
        "final_pes = pes_folks + one_level_away"
      ],
      "metadata": {
        "id": "h-hdyXP6P3OS"
      },
      "execution_count": null,
      "outputs": []
    },
    {
      "cell_type": "code",
      "source": [
        "for index, row in df_saved.iterrows():\n",
        "    if row.target not in final_pes:\n",
        "        df_saved.drop(index, inplace=True)"
      ],
      "metadata": {
        "id": "fLIp1l6RQE0K"
      },
      "execution_count": null,
      "outputs": []
    },
    {
      "cell_type": "code",
      "source": [
        "df_saved.to_csv('updated_pes.csv')"
      ],
      "metadata": {
        "id": "2K2oZ--KQLzj"
      },
      "execution_count": null,
      "outputs": []
    }
  ]
}