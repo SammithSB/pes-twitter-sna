{
  "cells": [
    {
      "cell_type": "code",
      "execution_count": 1,
      "metadata": {
        "id": "EaqtacDh-cLZ"
      },
      "outputs": [],
      "source": [
        "#importing necessary libraries\n",
        "import tweepy\n",
        "import pandas as pd\n",
        "import networkx as nx\n",
        "import numpy as np\n",
        "import collections\n",
        "import csv"
      ]
    },
    {
      "cell_type": "code",
      "execution_count": 2,
      "metadata": {
        "id": "3sjB6WKg-maY"
      },
      "outputs": [],
      "source": [
        "#sign up for twitter developer account to get these credentials\n",
        "\n",
        "consumer_key=  'main_nahi_bataunga' # same as api key\n",
        "consumer_secret= 'main_nahi_bataunga' # same as api secret key\n",
        "access_token= 'main_nahi_bataunga'\n",
        "access_token_secret= 'main_nahi_bataunga'"
      ]
    },
    {
      "cell_type": "code",
      "execution_count": 3,
      "metadata": {
        "id": "-P3fEjgu-u89"
      },
      "outputs": [],
      "source": [
        "#api connection\n",
        "auth = tweepy.OAuthHandler(consumer_key, consumer_secret)\n",
        "auth.set_access_token(access_token, access_token_secret)\n",
        "api = tweepy.API(auth, wait_on_rate_limit=True, wait_on_rate_limit_notify=True, compression=True)"
      ]
    },
    {
      "cell_type": "code",
      "execution_count": 4,
      "metadata": {
        "colab": {
          "base_uri": "https://localhost:8080/"
        },
        "id": "c5_2tjm3-0V4",
        "outputId": "8194425b-3ccd-4e4f-ab1b-b751bbf65946"
      },
      "outputs": [
        {
          "data": {
            "text/plain": [
              "1150712699505897473"
            ]
          },
          "execution_count": 4,
          "metadata": {},
          "output_type": "execute_result"
        }
      ],
      "source": [
        "\n",
        "#to get your own account id -\n",
        "me = api.get_user(screen_name = 'sammith130') #change to your username\n",
        "me.id"
      ]
    },
    {
      "cell_type": "code",
      "execution_count": 8,
      "metadata": {
        "colab": {
          "base_uri": "https://localhost:8080/"
        },
        "id": "OWCNWsdg-8_S",
        "outputId": "725c84ec-62ed-4e90-b3e9-e13f6206cd7f"
      },
      "outputs": [
        {
          "name": "stdout",
          "output_type": "stream",
          "text": [
            "255\n"
          ]
        }
      ],
      "source": [
        "#getting the users that follow me \n",
        "user_list = [\"1150712699505897473\"]\n",
        "follower_list = []\n",
        "\n",
        "for user in user_list:\n",
        "    followers = []\n",
        "    try:\n",
        "        for page in tweepy.Cursor(api.followers_ids, user_id=user).pages():\n",
        "            followers.extend(page)\n",
        "            print(len(followers))\n",
        "    except tweepy.TweepError:\n",
        "        print(\"error\")\n",
        "        continue\n",
        "    follower_list.append(followers)"
      ]
    },
    {
      "cell_type": "code",
      "execution_count": 11,
      "metadata": {
        "colab": {
          "base_uri": "https://localhost:8080/"
        },
        "id": "t9KdniQfwUWX",
        "outputId": "a9384105-9ca8-4479-ad9c-322828fe9fd5"
      },
      "outputs": [
        {
          "data": {
            "text/plain": [
              "255"
            ]
          },
          "execution_count": 11,
          "metadata": {},
          "output_type": "execute_result"
        }
      ],
      "source": [
        "len(follower_list[0])"
      ]
    },
    {
      "cell_type": "code",
      "execution_count": 9,
      "metadata": {
        "id": "f8WhdVH8ndWo"
      },
      "outputs": [],
      "source": [
        "screen_name='sammith130'\n",
        "f_list=[]\n",
        "for follower in tweepy.Cursor(api.followers, screen_name).items(254):\n",
        "    f_list.append([follower.screen_name, follower.id])"
      ]
    },
    {
      "cell_type": "code",
      "execution_count": 12,
      "metadata": {
        "colab": {
          "base_uri": "https://localhost:8080/"
        },
        "id": "WsVtq8rTnsrl",
        "outputId": "38d93ba9-3711-4abc-aa1c-b3d94c259702"
      },
      "outputs": [
        {
          "data": {
            "text/plain": [
              "[['Ashwath_Kris', 1477144962286243849],\n",
              " ['BigShukk', 473729548],\n",
              " ['Shaylaw_Holmes', 721713204980817927],\n",
              " ['HackathonPortal', 872351463678386178],\n",
              " ['sruju16', 804978554312290304],\n",
              " ['MohithTallam', 1147022537563357184],\n",
              " ['vishwas_badiger', 942131761147809792],\n",
              " ['Nevasini1', 1385123312875950087],\n",
              " ['Nitin_352', 4695558013],\n",
              " ['612Aksh', 3113668031],\n",
              " ['nikhilprakashhh', 1110802279060234241],\n",
              " ['VishnuOlety', 1450829256],\n",
              " ['blackpsyduck7', 821685274786856960],\n",
              " ['badabingbazaboo', 764762412339769344],\n",
              " ['Adimanx11Mane', 1509156661449347073],\n",
              " ['ratakittydoggo', 1140966087682473984],\n",
              " ['dhrvmenon', 1473893833461043203],\n",
              " ['GrouverAnaica', 1139519706698665984],\n",
              " ['moneyman2709', 2853941888],\n",
              " ['Shreyas2201', 4648345698],\n",
              " ['Rebeccaaalfred', 1480215352550178817],\n",
              " ['reddevilsab', 1262007528721809408],\n",
              " ['fish4booty', 1355217587714449409],\n",
              " ['pepperblew', 1506484559357317120],\n",
              " ['AryanJa59437740', 1205472010773549056],\n",
              " ['ayushmehk', 913734075587878912],\n",
              " ['teknas231', 1157650232521265153],\n",
              " ['_abhishek_m_s', 3117377938],\n",
              " ['ChudasPriest', 1086542458647990272],\n",
              " ['ShulkerR6', 827629337809653761],\n",
              " ['that_short_shit', 1079403117123391488],\n",
              " ['Athreya_Vishnu_', 1003170502972542976],\n",
              " ['praj_kp', 1017108564429627392],\n",
              " ['govardhnn', 2876732521],\n",
              " ['JagritiNadiger', 1282344134825529344],\n",
              " ['IamAyushSingh24', 1423875516902248448],\n",
              " ['mayankk_agarwal', 3245358649],\n",
              " ['fireballlpapi', 1242738027249586176],\n",
              " ['SHITvaani', 1267321207801516032],\n",
              " ['rehangmu_1710', 924103024028483585],\n",
              " ['Adithya_nair_', 1139124129188073477],\n",
              " ['Bharg4v', 1249343092957655042],\n",
              " ['Shreyas_xyz', 1191711549678743552],\n",
              " ['archit2098', 588244470],\n",
              " ['HrishikaJotwani', 1226363364131033088],\n",
              " ['pramathharish', 834992149758255104],\n",
              " ['AryamanDubey4', 1268952216267902976],\n",
              " ['aru__she', 833359275233652736],\n",
              " ['tweetsrihari', 952910820735774722],\n",
              " ['TheMetronomesCC', 1493512389697970177],\n",
              " ['Rajesh_M_Mysor', 1418346760607395842],\n",
              " ['GowdarTejas', 1426547648631230469],\n",
              " ['Yogism97', 1149678713463644160],\n",
              " ['mehtreyi', 1284839845861273602],\n",
              " ['therealtushi', 1497605466968723504],\n",
              " ['GauthamYS', 1429603854],\n",
              " ['binarydreamtree', 1317498004199256064],\n",
              " ['La_Ruim', 958759926549147649],\n",
              " ['rilla_2004', 1435522604828225538],\n",
              " ['ohshiiin', 1257788962111799296],\n",
              " ['adu_boiii', 1283378917168934913],\n",
              " ['ParaswarPranav', 304837903],\n",
              " ['SharatH46740404', 1384750065047130114],\n",
              " ['amritaaramesh', 1303161128873156608],\n",
              " ['Gils_Paul13', 1483029280699588608],\n",
              " ['ks_sohanraj', 1449614168265408513],\n",
              " ['SBhaktharam', 1192409641273065473],\n",
              " ['burgerbacha_', 966035591191236610],\n",
              " ['QuizzerThirsty', 1379123193277870084],\n",
              " ['AbhishekSMB', 1396773595],\n",
              " ['RohitSulake', 1412783242260881415],\n",
              " ['chunnuthakur3', 2776544702],\n",
              " ['ajaysapru27', 4797376702],\n",
              " ['smrithihihi', 1475691974845886464],\n",
              " ['yashas_karthik', 4168701552],\n",
              " ['whypranav', 1116602726270390273],\n",
              " ['Rowdy_Ranga_', 1455814313063567371],\n",
              " ['Nithin_m_kamath', 844812358971117569],\n",
              " ['SanjanaKoppella', 1428587673116037121],\n",
              " ['kapasiayush', 802416910813933568],\n",
              " ['zethazhemadam', 610131860],\n",
              " ['doodhwalaaa', 1280037324504526848],\n",
              " ['DevangaAnusha', 1351451066622119937],\n",
              " ['viishruth', 3274985820],\n",
              " ['kunal_49_bhat', 3274572859],\n",
              " ['sumukhbhat2701', 730358072506519552],\n",
              " ['ya_vuh', 4798666566],\n",
              " ['TharunJ30', 1287594949228150784],\n",
              " ['GbHaritha', 1004642350553968640],\n",
              " ['Thalavenger', 1372301511129243650],\n",
              " ['diarun_002', 159465591],\n",
              " ['PresidentMisbah', 1311230362941489152],\n",
              " ['AprilSampley4', 1467861251459936257],\n",
              " ['2ez4TejuVG', 745566943080394752],\n",
              " ['ryan_mannes', 2720589114],\n",
              " ['notsamyuktha', 1247213980797427724],\n",
              " ['mihirkestur', 1471326060075630592],\n",
              " ['_aviroxi', 1233224335747215361],\n",
              " ['SiddharthM963', 1280360328430116864],\n",
              " ['SankalpDevanand', 1231447679814656000],\n",
              " ['AnirudhCb', 1327638262920273920],\n",
              " ['idekanymorepls', 860040731674775552],\n",
              " ['YashiChawla', 1300814862130360320],\n",
              " ['sachinshankar01', 831682449864286208],\n",
              " ['Bhagya28201750', 1135751408802680832],\n",
              " ['alcorrrrrrr', 1613156095],\n",
              " ['bhuvan_18007', 795674214690918400],\n",
              " ['SiddharthSoora', 1249295950549401600],\n",
              " ['srivatsa_av1', 4089979760],\n",
              " ['gaya3cantshutup', 1472558789698019330],\n",
              " ['hariprasadn99', 771622961153396736],\n",
              " ['AishwaryaBS06', 1460180698556297221],\n",
              " ['LokeshUvaraj', 883720758723092480],\n",
              " ['shreyasri01', 1382680394349236228],\n",
              " ['ayushsingh_a5', 1471725223082745858],\n",
              " ['saltyMaggi', 1379709485325840387],\n",
              " ['lost_in_unkown', 1138020332437008385],\n",
              " ['Shawshankgbhat', 1471504126890557446],\n",
              " ['vibhamasti', 3034153315],\n",
              " ['thundercookie_', 3320026471],\n",
              " ['RiteshSapata', 1277807884861009921],\n",
              " ['SuhasRK2', 1266962455147671552],\n",
              " ['fetuinbaby', 1325244204663115777],\n",
              " ['7Sailesh7', 778520107177738240],\n",
              " ['DashoraMahim', 1277637088842784769],\n",
              " ['rum_mya', 1250017084890726405],\n",
              " ['fuxxagon', 1409116057655078913],\n",
              " ['Cricketjim84', 970085679572144128],\n",
              " ['sanket_kala', 1330829532],\n",
              " ['notYummmm', 1357736121535397888],\n",
              " ['kedar_shet', 3196077097],\n",
              " ['rajnatuu', 2987857076],\n",
              " ['mateshutup', 38881813],\n",
              " ['cricadharsh', 192623209],\n",
              " ['SACHINMS2001', 1459440380345159682],\n",
              " ['akaboss2001', 1468957860],\n",
              " ['Mohdkashan98', 1051904061610577921],\n",
              " ['Carpo34', 42604487],\n",
              " ['KaranBatham18', 1083712464506646528],\n",
              " ['AnirudhRowjee', 1345469474791591936],\n",
              " ['abhishhittt', 1328927334812905478],\n",
              " ['ImSrijanG', 1110553521932234752],\n",
              " ['shamanth_km', 2838973913],\n",
              " ['__TNU_', 1282017061573668866],\n",
              " ['kpb1331', 3220242762],\n",
              " ['justmemesnme', 1075775236832817153],\n",
              " ['rohantorescue', 1451553004969103362],\n",
              " ['brucewayne20997', 1439237453970227205],\n",
              " ['ananyeeah', 1305910070782251009],\n",
              " ['tangy_31', 1344738920],\n",
              " ['logimeek2001', 1008363599226720256],\n",
              " ['PatilAvanish', 1253539463751319552],\n",
              " ['nishsathish10', 1071853071142141952],\n",
              " ['_muskankothari', 1447084409018990595],\n",
              " ['vinaypnaidu27', 1184475769482825728],\n",
              " ['shreyassk08', 3269140134],\n",
              " ['standardsardard', 1403983669908303874],\n",
              " ['notBeardedMonk', 785833074319818752],\n",
              " ['AmoghK18', 902853369332547585],\n",
              " ['rohitka1998', 1442188289289510917],\n",
              " ['BradmansCoach', 1280484903189012482],\n",
              " ['tabsOverSpaces_', 1277835126236274688],\n",
              " ['utkarsh_gupt', 725384293766291456],\n",
              " ['math_with_an_e', 1436187424506277898],\n",
              " ['SBaasri', 1154274912703356928],\n",
              " ['vkm1osv', 790915671723020288],\n",
              " ['Sharanya121', 1435223129765253122],\n",
              " ['OtaradiMahesh', 1284806343275106304],\n",
              " ['Kunaldo_23', 3167392476],\n",
              " ['zotako01', 780439554784366592],\n",
              " ['Tanya21Arora', 1098839084162789376],\n",
              " ['SamarthMathur7', 1273713079587463173],\n",
              " ['MUFC_9908', 3433778457],\n",
              " ['ayushggod', 850556860411269121],\n",
              " ['gimmetechtip', 2469365941],\n",
              " ['07914KARTHIK', 1286630214571708417],\n",
              " ['ArooKrishna', 1366336069319335943],\n",
              " ['MihailsCdoleman', 1180481519208534017],\n",
              " ['udit_buch', 1322448025],\n",
              " ['cric_aadukalam', 1389455779825029120],\n",
              " ['R_Dravia', 3113012450],\n",
              " ['ragu_24', 1659273182],\n",
              " ['JonathanFowle10', 1137854900],\n",
              " ['SBLIntl', 1141988171359481857],\n",
              " ['mcskanth', 83102052],\n",
              " ['MightyAussies', 783891614544592896],\n",
              " ['Crickfootboi11', 1417085422723866625],\n",
              " ['CoverDrivenFor4', 1377193380],\n",
              " ['Parziva46048757', 1355748483127369730],\n",
              " ['LePinchHitter', 1095000870201278465],\n",
              " ['Samishsanthosh1', 932713380099559424],\n",
              " ['bhavsarJ2_0', 1183923867703595008],\n",
              " ['verbalAgreememt', 1396486075732828160],\n",
              " ['aditeyabaral01', 2872401203],\n",
              " ['SabeehaMajid', 2210248787],\n",
              " ['DattaDachchu', 1289485099306610688],\n",
              " ['Psychadelic37', 316610005],\n",
              " ['dark_Nebula1', 570960587],\n",
              " ['NandishRS1', 1372421175012298754],\n",
              " ['abhinav_k316', 142246862],\n",
              " ['zaheerullah2619', 1249158958771732481],\n",
              " ['DarrenMordecai', 1301141097461227521],\n",
              " ['hemang_am', 738887984],\n",
              " ['Adarsh__ash', 998238313541767169],\n",
              " ['El_Chopernos', 705455265932443649],\n",
              " ['daniel36cricket', 1353540781332598784],\n",
              " ['Sairaj0007', 878187705569394688],\n",
              " ['iVishal_R', 837163154639462401],\n",
              " ['8a78VSsE0iS9aZ0', 1332596140806574082],\n",
              " ['elitecynic', 453561396],\n",
              " ['CricInNumbers', 1252901383138799617],\n",
              " ['faahil', 46058528],\n",
              " ['gurkiratsgill', 113606973],\n",
              " ['KS7745KS', 820648173932843008],\n",
              " ['koustav_ch', 282036690],\n",
              " ['AronyaBaksy', 705763745079791617],\n",
              " ['sachinsurya200', 107439729],\n",
              " ['deepity_yogesh', 2176497307],\n",
              " ['srbharadwaj', 53651717],\n",
              " ['FlushingGarros', 786589232974352385],\n",
              " ['aranjitsial', 2178275604],\n",
              " ['DrVirat6', 1331479951250362368],\n",
              " ['PRAJWALDR98', 3062609156],\n",
              " ['abhirama_cs', 2755139832],\n",
              " ['Bingmanson', 15671275],\n",
              " ['initialsass', 4705027464],\n",
              " ['aprameya_l', 1283430875988783104],\n",
              " ['VirotKuehli', 1285800500055572480],\n",
              " ['CWC19Winner', 1150830617178906624],\n",
              " ['Cric_Rishabh', 2902376407],\n",
              " ['Thanos831', 1305539707317616641],\n",
              " ['Subrama37156274', 1282169788492468224],\n",
              " ['shivaayadav__', 819789450515357697],\n",
              " ['AyushB45', 1132653606501462016],\n",
              " ['piccisan', 53079798],\n",
              " ['CricLifeStories', 1181280921519116288],\n",
              " ['IdiotsSerious', 1292087027614150658],\n",
              " ['jackhidary', 17356547],\n",
              " ['sergiotellolee', 635654572],\n",
              " ['quantum_mishra', 1271327468444479488],\n",
              " ['darshilshahaha', 1248995104817324034],\n",
              " ['Mr_Vadermutha', 555199591],\n",
              " ['Trinityknight6', 844672880302575617],\n",
              " ['Alan_Shek_Lun', 3286359422],\n",
              " ['For6Hit', 1188610603981692928],\n",
              " ['highOnBournvita', 2649868380],\n",
              " ['saesunkim', 742767375137673216],\n",
              " ['drMODIfied', 1284486733220818944],\n",
              " ['StuartMegha', 1262033924554813446],\n",
              " ['roysti10', 746327100257271816],\n",
              " ['vinayvini26', 1274985634281615360],\n",
              " ['Adarsh37805754', 1265894155936395265],\n",
              " ['radioactive_67', 1265590858625105921],\n",
              " ['Parichith1', 1152995408458612736]]"
            ]
          },
          "execution_count": 12,
          "metadata": {},
          "output_type": "execute_result"
        }
      ],
      "source": [
        "f_list"
      ]
    },
    {
      "cell_type": "code",
      "execution_count": 14,
      "metadata": {
        "id": "sJrHC_cBtKAe"
      },
      "outputs": [],
      "source": [
        "cols = ['name','id']\n",
        "with open('shows.csv', 'w') as f:\n",
        "\n",
        "    # using csv.writer method from CSV package\n",
        "    write = csv.writer(f)\n",
        "\n",
        "    write.writerow(cols)\n",
        "    write.writerows(f_list)"
      ]
    },
    {
      "cell_type": "markdown",
      "metadata": {
        "id": "jFg6WWfd_Ivm"
      },
      "source": [
        "### There are 254 followers, but not all are from PES\n",
        "\n",
        "I have manually selected a subset from the csv file by opening in excel sheet.\n",
        "\n",
        "\n",
        "\n",
        "(There can be better ways to verify, but since 102 is a small number, I verified it manually using - https://oauth-playground.glitch.me/?id=findUserById&params=%28%27query%21%28%29%7Ebody%21%28%29%7Epath%21%28%21*%7E**id%21%272244994945%27%29%01*_) no idea what this meas, this is Gayathri's suggestion, ask her only."
      ]
    },
    {
      "cell_type": "code",
      "execution_count": 15,
      "metadata": {
        "colab": {
          "base_uri": "https://localhost:8080/"
        },
        "id": "mbbiOMuSDzav",
        "outputId": "63fb0388-df5e-4a9a-b73c-3baca75dca81"
      },
      "outputs": [
        {
          "name": "stdout",
          "output_type": "stream",
          "text": [
            "[('name', 'id'), ('Ashwath_Kris', '1477144962286243849'), ('BigShukk', '473729548'), ('Shaylaw_Holmes', '721713204980817927'), ('sruju16', '804978554312290304'), ('MohithTallam', '1147022537563357184'), ('Nevasini1', '1385123312875950087'), ('Nitin_352', '4695558013'), ('612Aksh', '3113668031'), ('nikhilprakashhh', '1110802279060234241'), ('VishnuOlety', '1450829256'), ('blackpsyduck7', '821685274786856960'), ('badabingbazaboo', '764762412339769344'), ('dhrvmenon', '1473893833461043203'), ('moneyman2709', '2853941888'), ('Rebeccaaalfred', '1480215352550178817'), ('fish4booty', '1355217587714449409'), ('pepperblew', '1506484559357317120'), ('AryanJa59437740', '1205472010773549056'), ('ayushmehk', '913734075587878912'), ('teknas231', '1157650232521265153'), ('_abhishek_m_s', '3117377938'), ('ChudasPriest', '1086542458647990272'), ('ShulkerR6', '827629337809653761'), ('that_short_shit', '1079403117123391488'), ('Athreya_Vishnu_', '1003170502972542976'), ('praj_kp', '1017108564429627392'), ('govardhnn', '2876732521'), ('mayankk_agarwal', '3245358649'), ('fireballlpapi', '1242738027249586176'), ('SHITvaani', '1267321207801516032'), ('rehangmu_1710', '924103024028483585'), ('Adithya_nair_', '1139124129188073477'), ('Bharg4v', '1249343092957655042'), ('Shreyas_xyz', '1191711549678743552'), ('archit2098', '588244470'), ('HrishikaJotwani', '1226363364131033088'), ('pramathharish', '834992149758255104'), ('AryamanDubey4', '1268952216267902976'), ('aru__she', '833359275233652736'), ('Rajesh_M_Mysor', '1418346760607395842'), ('mehtreyi', '1284839845861273602'), ('therealtushi', '1497605466968723504'), ('GauthamYS', '1429603854'), ('binarydreamtree', '1317498004199256064'), ('La_Ruim', '958759926549147649'), ('ohshiiin', '1257788962111799296'), ('adu_boiii', '1283378917168934913'), ('ParaswarPranav', '304837903'), ('SharatH46740404', '1384750065047130114'), ('amritaaramesh', '1303161128873156608'), ('Gils_Paul13', '1483029280699588608'), ('SBhaktharam', '1192409641273065473'), ('RohitSulake', '1412783242260881415'), ('smrithihihi', '1475691974845886464'), ('yashas_karthik', '4168701552'), ('whypranav', '1116602726270390273'), ('SanjanaKoppella', '1428587673116037121'), ('kapasiayush', '802416910813933568'), ('zethazhemadam', '610131860'), ('doodhwalaaa', '1280037324504526848'), ('DevangaAnusha', '1351451066622119937'), ('viishruth', '3274985820'), ('kunal_49_bhat', '3274572859'), ('sumukhbhat2701', '730358072506519552'), ('ya_vuh', '4798666566'), ('TharunJ30', '1287594949228150784'), ('GbHaritha', '1004642350553968640'), ('AprilSampley4', '1467861251459936257'), ('2ez4TejuVG', '745566943080394752'), ('notsamyuktha', '1247213980797427724'), ('SankalpDevanand', '1231447679814656000'), ('AnirudhCb', '1327638262920273920'), ('idekanymorepls', '860040731674775552'), ('YashiChawla', '1300814862130360320'), ('sachinshankar01', '831682449864286208'), ('Bhagya28201750', '1135751408802680832'), ('alcorrrrrrr', '1613156095'), ('bhuvan_18007', '795674214690918400'), ('SiddharthSoora', '1249295950549401600'), ('srivatsa_av1', '4089979760'), ('gaya3cantshutup', '1472558789698019330'), ('hariprasadn99', '771622961153396736'), ('AishwaryaBS06', '1460180698556297221'), ('LokeshUvaraj', '883720758723092480'), ('shreyasri01', '1382680394349236228'), ('ayushsingh_a5', '1471725223082745858'), ('saltyMaggi', '1379709485325840387'), ('lost_in_unkown', '1138020332437008385'), ('Shawshankgbhat', '1471504126890557446'), ('vibhamasti', '3034153315'), ('thundercookie_', '3320026471'), ('RiteshSapata', '1277807884861009921'), ('SuhasRK2', '1266962455147671552'), ('7Sailesh7', '778520107177738240'), ('DashoraMahim', '1277637088842784769'), ('rum_mya', '1250017084890726405'), ('notYummmm', '1357736121535397888'), ('kedar_shet', '3196077097'), ('SACHINMS2001', '1459440380345159682'), ('akaboss2001', '1468957860'), ('AnirudhRowjee', '1345469474791591936'), ('shamanth_km', '2838973913'), ('__TNU_', '1282017061573668866'), ('kpb1331', '3220242762'), ('rohantorescue', '1451553004969103362'), ('ananyeeah', '1305910070782251009'), ('tangy_31', '1344738920'), ('logimeek2001', '1008363599226720256'), ('PatilAvanish', '1253539463751319552'), ('nishsathish10', '1071853071142141952'), ('_muskankothari', '1447084409018990595'), ('vinaypnaidu27', '1184475769482825728'), ('shreyassk08', '3269140134'), ('standardsardard', '1403983669908303874'), ('notBeardedMonk', '785833074319818752'), ('AmoghK18', '902853369332547585'), ('tabsOverSpaces_', '1277835126236274688'), ('utkarsh_gupt', '725384293766291456'), ('math_with_an_e', '1436187424506277898'), ('SBaasri', '1154274912703356928'), ('Kunaldo_23', '3167392476'), ('zotako01', '780439554784366592'), ('Tanya21Arora', '1098839084162789376'), ('SamarthMathur7', '1273713079587463173'), ('ayushggod', '850556860411269121'), ('gimmetechtip', '2469365941'), ('ArooKrishna', '1366336069319335943'), ('Parziva46048757', '1355748483127369730'), ('aditeyabaral01', '2872401203'), ('iVishal_R', '837163154639462401'), ('koustav_ch', '282036690'), ('AronyaBaksy', '705763745079791617'), ('darshilshahaha', '1248995104817324034'), ('StuartMegha', '1262033924554813446'), ('roysti10', '746327100257271816'), ('vinayvini26', '1274985634281615360'), ('radioactive_67', '1265590858625105921')]\n"
          ]
        }
      ],
      "source": [
        "import csv\n",
        "\n",
        "with open('pes_twit.csv', newline='') as f:\n",
        "    reader = csv.reader(f)\n",
        "    data = [tuple(row) for row in reader]\n",
        "print(data)\n"
      ]
    },
    {
      "cell_type": "code",
      "execution_count": 16,
      "metadata": {
        "colab": {
          "base_uri": "https://localhost:8080/"
        },
        "id": "laF2cGMZlVxQ",
        "outputId": "f39e84a3-eab2-46c3-fa90-3635b5aa999e"
      },
      "outputs": [
        {
          "data": {
            "text/plain": [
              "255"
            ]
          },
          "execution_count": 16,
          "metadata": {},
          "output_type": "execute_result"
        }
      ],
      "source": [
        "len(follower_list[0])"
      ]
    },
    {
      "cell_type": "code",
      "execution_count": 17,
      "metadata": {
        "colab": {
          "base_uri": "https://localhost:8080/"
        },
        "id": "730SGTjQzaxU",
        "outputId": "16834fae-8d3e-42f7-ea6c-0007cdabe518"
      },
      "outputs": [
        {
          "data": {
            "text/plain": [
              "0      1477144962286243849\n",
              "1                473729548\n",
              "2       721713204980817927\n",
              "3       804978554312290304\n",
              "4      1147022537563357184\n",
              "              ...         \n",
              "132    1248995104817324034\n",
              "133    1262033924554813446\n",
              "134     746327100257271816\n",
              "135    1274985634281615360\n",
              "136    1265590858625105921\n",
              "Name: id, Length: 137, dtype: int64"
            ]
          },
          "execution_count": 17,
          "metadata": {},
          "output_type": "execute_result"
        }
      ],
      "source": [
        "df = pd.read_csv('pes_twit.csv')\n",
        "df['id']"
      ]
    },
    {
      "cell_type": "code",
      "execution_count": 18,
      "metadata": {
        "id": "LrrtllbT_HHo"
      },
      "outputs": [],
      "source": [
        "# filtering out only those in PES\n",
        "\n",
        "\n",
        "pes_folks= df['id']\n",
        "pes_folks_name = df['name']"
      ]
    },
    {
      "cell_type": "code",
      "execution_count": 19,
      "metadata": {
        "id": "Xxh6D1oqARG6"
      },
      "outputs": [],
      "source": [
        "#making a df with my id as source and all my followers as target dest\n",
        "df = pd.DataFrame(columns=['source','target','name'])\n",
        "df['target'] = pes_folks\n",
        "df['source'] = 1150712699505897473\n",
        "df['name']= pes_folks_name"
      ]
    },
    {
      "cell_type": "code",
      "execution_count": 20,
      "metadata": {
        "colab": {
          "base_uri": "https://localhost:8080/"
        },
        "id": "L2vBtFnjqINs",
        "outputId": "8947ddc8-35b3-4789-d657-7a602cf4cda7"
      },
      "outputs": [
        {
          "data": {
            "text/plain": [
              "0        Ashwath_Kris\n",
              "1            BigShukk\n",
              "2      Shaylaw_Holmes\n",
              "3             sruju16\n",
              "4        MohithTallam\n",
              "            ...      \n",
              "132    darshilshahaha\n",
              "133       StuartMegha\n",
              "134          roysti10\n",
              "135       vinayvini26\n",
              "136    radioactive_67\n",
              "Name: name, Length: 137, dtype: object"
            ]
          },
          "execution_count": 20,
          "metadata": {},
          "output_type": "execute_result"
        }
      ],
      "source": [
        "user_list = list([df['target'],df['name']])\n",
        "user_list[1]"
      ]
    },
    {
      "cell_type": "code",
      "execution_count": 60,
      "metadata": {
        "colab": {
          "base_uri": "https://localhost:8080/"
        },
        "id": "06ab1TEOAbqe",
        "outputId": "03cd19a2-27e5-41f2-9eb5-efc7a38fa5e7"
      },
      "outputs": [
        {
          "name": "stdout",
          "output_type": "stream",
          "text": [
            "1150712699505897473\n",
            "254\n",
            "Sammith130\n",
            "1497823537679114241\n",
            "51\n",
            "GoldBlood242\n",
            "1278655748768063490\n",
            "128\n",
            "Sushant77437897\n",
            "3221574320\n",
            "52\n",
            "aditya_ng_5\n",
            "1139519706698665984\n",
            "94\n",
            "GrouverAnaica\n",
            "1146263752125374464\n",
            "112\n",
            "hats_not_me\n",
            "1133076940842102784\n",
            "25\n",
            "anniem3m3\n",
            "3254808349\n",
            "58\n",
            "roopss6969\n",
            "1253945298461708291\n",
            "103\n",
            "rithikapaii\n",
            "1431620243307188224\n",
            "62\n",
            "PESU_Anonymous\n",
            "1148825471338991616\n",
            "78\n",
            "raxstan\n",
            "1104094260263972864\n",
            "70\n",
            "SooryDarling\n",
            "1251386586383527936\n",
            "33\n",
            "anki_ankii\n",
            "1457724829465935874\n",
            "15\n",
            "GrandhiRithvik\n",
            "1015680244768837632\n",
            "117\n",
            "SrinivasanTejas\n",
            "719932046726995970\n",
            "115\n",
            "parimala_v\n",
            "1000797725917499393\n",
            "77\n",
            "SanjanaPrasad17\n",
            "1305531562243489793\n",
            "46\n",
            "rishivr11\n",
            "893383768324554753\n",
            "115\n",
            "shriya_se\n",
            "3308507935\n",
            "72\n",
            "neizo_\n",
            "1168038336541286400\n",
            "66\n",
            "avi1005_\n",
            "1502307527882862595\n",
            "15\n",
            "ras29_\n",
            "1269857831231975424\n",
            "105\n",
            "shamith_vs\n"
          ]
        }
      ],
      "source": [
        "#getting my followers' followers\n",
        "user_list = one_level_away\n",
        "i=0\n",
        "for userID in user_list:\n",
        "    print(userID)\n",
        "    followers = []\n",
        "    follower_list = []\n",
        "    # fetching the user\n",
        "    user = api.get_user(userID)\n",
        "    name = user.screen_name\n",
        "    # fetching the followers_count\n",
        "    followers_count = user.followers_count\n",
        "\n",
        "    try:\n",
        "        for page in tweepy.Cursor(api.followers_ids, user_id=userID).pages():\n",
        "            followers.extend(page)\n",
        "            print(len(followers))\n",
        "            if followers_count >= 250: #Only take first 250 followers to reduce time the script runs\n",
        "                i+=1\n",
        "                break\n",
        "    except tweepy.TweepError:\n",
        "        print(\"error\")\n",
        "        continue\n",
        "    follower_list.append(followers)\n",
        "    temp = pd.DataFrame(columns=['source', 'target','name'])\n",
        "    temp['target'] = follower_list[0]\n",
        "    temp['source'] = userID\n",
        "    temp['name']= name\n",
        "    print(name)\n",
        "    df = df.append(temp)\n",
        "    df.to_csv(\"networkOfFollowers.csv\", index=False)"
      ]
    },
    {
      "cell_type": "markdown",
      "metadata": {
        "id": "3OxyvG3NA1b6"
      },
      "source": [
        "The followers' followers data has been appended to the pandas df and has been saved to the file networkOfFollowers.csv\n",
        "After running the code, comment out the above block so that it doesn't run again and use unecessary API get requests"
      ]
    },
    {
      "cell_type": "code",
      "execution_count": 22,
      "metadata": {
        "colab": {
          "base_uri": "https://localhost:8080/"
        },
        "id": "Zu1JqrdfAynl",
        "outputId": "adab806a-7871-4093-cfec-7dfbe06dbd15"
      },
      "outputs": [
        {
          "data": {
            "text/plain": [
              "7190"
            ]
          },
          "execution_count": 22,
          "metadata": {},
          "output_type": "execute_result"
        }
      ],
      "source": [
        "df_saved=pd.read_csv('/content/networkOfFollowers.csv')\n",
        "df_check = df_saved[~df_saved.target.isin(pes_folks)]\n",
        "len(df_check)"
      ]
    },
    {
      "cell_type": "code",
      "execution_count": 27,
      "metadata": {
        "colab": {
          "base_uri": "https://localhost:8080/"
        },
        "id": "Gq2szNzoPb3o",
        "outputId": "393988dc-8089-490c-e12b-a4c071a387df"
      },
      "outputs": [
        {
          "data": {
            "text/plain": [
              "4726"
            ]
          },
          "execution_count": 27,
          "metadata": {},
          "output_type": "execute_result"
        }
      ],
      "source": [
        "new_people= df_check['target']\n",
        "counter=collections.Counter(new_people)\n",
        "unique_new= np.unique(new_people)\n",
        "len(unique_new)"
      ]
    },
    {
      "cell_type": "code",
      "execution_count": 42,
      "metadata": {
        "colab": {
          "base_uri": "https://localhost:8080/",
          "height": 411
        },
        "id": "RwnMI4OWHqDp",
        "outputId": "dcb3f5e6-108a-41e8-961e-60573b3d933c"
      },
      "outputs": [
        {
          "data": {
            "text/html": [
              "\n",
              "  <div id=\"df-1f45dccd-86ba-4cc5-a782-ae54a469a27d\">\n",
              "    <div class=\"colab-df-container\">\n",
              "      <div>\n",
              "<style scoped>\n",
              "    .dataframe tbody tr th:only-of-type {\n",
              "        vertical-align: middle;\n",
              "    }\n",
              "\n",
              "    .dataframe tbody tr th {\n",
              "        vertical-align: top;\n",
              "    }\n",
              "\n",
              "    .dataframe thead th {\n",
              "        text-align: right;\n",
              "    }\n",
              "</style>\n",
              "<table border=\"1\" class=\"dataframe\">\n",
              "  <thead>\n",
              "    <tr style=\"text-align: right;\">\n",
              "      <th></th>\n",
              "      <th>source</th>\n",
              "      <th>target</th>\n",
              "      <th>name</th>\n",
              "    </tr>\n",
              "  </thead>\n",
              "  <tbody>\n",
              "    <tr>\n",
              "      <th>137</th>\n",
              "      <td>1477144962286243849</td>\n",
              "      <td>1150712699505897473</td>\n",
              "      <td>Ashwath_Kris</td>\n",
              "    </tr>\n",
              "    <tr>\n",
              "      <th>149</th>\n",
              "      <td>1477144962286243849</td>\n",
              "      <td>974875971110158336</td>\n",
              "      <td>Ashwath_Kris</td>\n",
              "    </tr>\n",
              "    <tr>\n",
              "      <th>150</th>\n",
              "      <td>473729548</td>\n",
              "      <td>1150712699505897473</td>\n",
              "      <td>BigShukk</td>\n",
              "    </tr>\n",
              "    <tr>\n",
              "      <th>152</th>\n",
              "      <td>473729548</td>\n",
              "      <td>1419280542764179462</td>\n",
              "      <td>BigShukk</td>\n",
              "    </tr>\n",
              "    <tr>\n",
              "      <th>154</th>\n",
              "      <td>473729548</td>\n",
              "      <td>1497823537679114241</td>\n",
              "      <td>BigShukk</td>\n",
              "    </tr>\n",
              "    <tr>\n",
              "      <th>...</th>\n",
              "      <td>...</td>\n",
              "      <td>...</td>\n",
              "      <td>...</td>\n",
              "    </tr>\n",
              "    <tr>\n",
              "      <th>292</th>\n",
              "      <td>804978554312290304</td>\n",
              "      <td>897357986351300608</td>\n",
              "      <td>sruju16</td>\n",
              "    </tr>\n",
              "    <tr>\n",
              "      <th>293</th>\n",
              "      <td>804978554312290304</td>\n",
              "      <td>907881357035978752</td>\n",
              "      <td>sruju16</td>\n",
              "    </tr>\n",
              "    <tr>\n",
              "      <th>294</th>\n",
              "      <td>804978554312290304</td>\n",
              "      <td>892407920012517376</td>\n",
              "      <td>sruju16</td>\n",
              "    </tr>\n",
              "    <tr>\n",
              "      <th>295</th>\n",
              "      <td>804978554312290304</td>\n",
              "      <td>898875634260336641</td>\n",
              "      <td>sruju16</td>\n",
              "    </tr>\n",
              "    <tr>\n",
              "      <th>296</th>\n",
              "      <td>804978554312290304</td>\n",
              "      <td>871919267851194369</td>\n",
              "      <td>sruju16</td>\n",
              "    </tr>\n",
              "  </tbody>\n",
              "</table>\n",
              "<p>100 rows × 3 columns</p>\n",
              "</div>\n",
              "      <button class=\"colab-df-convert\" onclick=\"convertToInteractive('df-1f45dccd-86ba-4cc5-a782-ae54a469a27d')\"\n",
              "              title=\"Convert this dataframe to an interactive table.\"\n",
              "              style=\"display:none;\">\n",
              "        \n",
              "  <svg xmlns=\"http://www.w3.org/2000/svg\" height=\"24px\"viewBox=\"0 0 24 24\"\n",
              "       width=\"24px\">\n",
              "    <path d=\"M0 0h24v24H0V0z\" fill=\"none\"/>\n",
              "    <path d=\"M18.56 5.44l.94 2.06.94-2.06 2.06-.94-2.06-.94-.94-2.06-.94 2.06-2.06.94zm-11 1L8.5 8.5l.94-2.06 2.06-.94-2.06-.94L8.5 2.5l-.94 2.06-2.06.94zm10 10l.94 2.06.94-2.06 2.06-.94-2.06-.94-.94-2.06-.94 2.06-2.06.94z\"/><path d=\"M17.41 7.96l-1.37-1.37c-.4-.4-.92-.59-1.43-.59-.52 0-1.04.2-1.43.59L10.3 9.45l-7.72 7.72c-.78.78-.78 2.05 0 2.83L4 21.41c.39.39.9.59 1.41.59.51 0 1.02-.2 1.41-.59l7.78-7.78 2.81-2.81c.8-.78.8-2.07 0-2.86zM5.41 20L4 18.59l7.72-7.72 1.47 1.35L5.41 20z\"/>\n",
              "  </svg>\n",
              "      </button>\n",
              "      \n",
              "  <style>\n",
              "    .colab-df-container {\n",
              "      display:flex;\n",
              "      flex-wrap:wrap;\n",
              "      gap: 12px;\n",
              "    }\n",
              "\n",
              "    .colab-df-convert {\n",
              "      background-color: #E8F0FE;\n",
              "      border: none;\n",
              "      border-radius: 50%;\n",
              "      cursor: pointer;\n",
              "      display: none;\n",
              "      fill: #1967D2;\n",
              "      height: 32px;\n",
              "      padding: 0 0 0 0;\n",
              "      width: 32px;\n",
              "    }\n",
              "\n",
              "    .colab-df-convert:hover {\n",
              "      background-color: #E2EBFA;\n",
              "      box-shadow: 0px 1px 2px rgba(60, 64, 67, 0.3), 0px 1px 3px 1px rgba(60, 64, 67, 0.15);\n",
              "      fill: #174EA6;\n",
              "    }\n",
              "\n",
              "    [theme=dark] .colab-df-convert {\n",
              "      background-color: #3B4455;\n",
              "      fill: #D2E3FC;\n",
              "    }\n",
              "\n",
              "    [theme=dark] .colab-df-convert:hover {\n",
              "      background-color: #434B5C;\n",
              "      box-shadow: 0px 1px 3px 1px rgba(0, 0, 0, 0.15);\n",
              "      filter: drop-shadow(0px 1px 2px rgba(0, 0, 0, 0.3));\n",
              "      fill: #FFFFFF;\n",
              "    }\n",
              "  </style>\n",
              "\n",
              "      <script>\n",
              "        const buttonEl =\n",
              "          document.querySelector('#df-1f45dccd-86ba-4cc5-a782-ae54a469a27d button.colab-df-convert');\n",
              "        buttonEl.style.display =\n",
              "          google.colab.kernel.accessAllowed ? 'block' : 'none';\n",
              "\n",
              "        async function convertToInteractive(key) {\n",
              "          const element = document.querySelector('#df-1f45dccd-86ba-4cc5-a782-ae54a469a27d');\n",
              "          const dataTable =\n",
              "            await google.colab.kernel.invokeFunction('convertToInteractive',\n",
              "                                                     [key], {});\n",
              "          if (!dataTable) return;\n",
              "\n",
              "          const docLinkHtml = 'Like what you see? Visit the ' +\n",
              "            '<a target=\"_blank\" href=https://colab.research.google.com/notebooks/data_table.ipynb>data table notebook</a>'\n",
              "            + ' to learn more about interactive tables.';\n",
              "          element.innerHTML = '';\n",
              "          dataTable['output_type'] = 'display_data';\n",
              "          await google.colab.output.renderOutput(dataTable, element);\n",
              "          const docLink = document.createElement('div');\n",
              "          docLink.innerHTML = docLinkHtml;\n",
              "          element.appendChild(docLink);\n",
              "        }\n",
              "      </script>\n",
              "    </div>\n",
              "  </div>\n",
              "  "
            ],
            "text/plain": [
              "                  source               target          name\n",
              "137  1477144962286243849  1150712699505897473  Ashwath_Kris\n",
              "149  1477144962286243849   974875971110158336  Ashwath_Kris\n",
              "150            473729548  1150712699505897473      BigShukk\n",
              "152            473729548  1419280542764179462      BigShukk\n",
              "154            473729548  1497823537679114241      BigShukk\n",
              "..                   ...                  ...           ...\n",
              "292   804978554312290304   897357986351300608       sruju16\n",
              "293   804978554312290304   907881357035978752       sruju16\n",
              "294   804978554312290304   892407920012517376       sruju16\n",
              "295   804978554312290304   898875634260336641       sruju16\n",
              "296   804978554312290304   871919267851194369       sruju16\n",
              "\n",
              "[100 rows x 3 columns]"
            ]
          },
          "execution_count": 42,
          "metadata": {},
          "output_type": "execute_result"
        }
      ],
      "source": [
        "df_check.head(100)"
      ]
    },
    {
      "cell_type": "code",
      "execution_count": 54,
      "metadata": {
        "id": "dq-9h1wYIp45"
      },
      "outputs": [],
      "source": [
        "from google.colab import files\n",
        "df_check.to_csv('output.csv')\n"
      ]
    },
    {
      "cell_type": "code",
      "execution_count": 57,
      "metadata": {
        "id": "tDhnoEnYdKxt"
      },
      "outputs": [],
      "source": [
        "one_level_away = [1150712699505897473,1497823537679114241,1278655748768063490,3221574320,1139519706698665984,1146263752125374464,\\\n",
        "                  1133076940842102784,3254808349,1253945298461708291,1431620243307188224,1148825471338991616,1104094260263972864,\\\n",
        "                  1251386586383527936,1457724829465935874,1015680244768837632,719932046726995970,1000797725917499393,\\\n",
        "                  1305531562243489793,893383768324554753,3308507935,1168038336541286400,1502307527882862595,1269857831231975424]"
      ]
    },
    {
      "cell_type": "code",
      "execution_count": 53,
      "metadata": {
        "colab": {
          "base_uri": "https://localhost:8080/"
        },
        "id": "MhjVT0WiPdOO",
        "outputId": "afb9a225-9214-4116-c483-7564fc437abc"
      },
      "outputs": [
        {
          "data": {
            "text/plain": [
              "[(1150712699505897473, 131),\n",
              " (1497823537679114241, 42),\n",
              " (1278655748768063490, 42),\n",
              " (1471034166439342096, 27),\n",
              " (3221574320, 26),\n",
              " (1139519706698665984, 24),\n",
              " (1146263752125374464, 24),\n",
              " (1133076940842102784, 23),\n",
              " (3254808349, 22),\n",
              " (1253945298461708291, 22),\n",
              " (1431620243307188224, 22),\n",
              " (1148825471338991616, 21),\n",
              " (1104094260263972864, 20),\n",
              " (1251386586383527936, 20),\n",
              " (1457724829465935874, 19),\n",
              " (1015680244768837632, 18),\n",
              " (719932046726995970, 17),\n",
              " (1000797725917499393, 16),\n",
              " (1305531562243489793, 16),\n",
              " (893383768324554753, 16),\n",
              " (3308507935, 16),\n",
              " (1168038336541286400, 15),\n",
              " (1502307527882862595, 15),\n",
              " (1269857831231975424, 15),\n",
              " (974875971110158336, 14),\n",
              " (310908600, 14),\n",
              " (798011876558794756, 14),\n",
              " (1265926912196530176, 14),\n",
              " (988488445692710913, 14),\n",
              " (716526370323505152, 14),\n",
              " (2257894008, 14),\n",
              " (832973693546545152, 14),\n",
              " (1116029468999426048, 14),\n",
              " (2228020669, 13),\n",
              " (2926993738, 13),\n",
              " (1267050143838113794, 13),\n",
              " (1489178779738013698, 13),\n",
              " (1435618253313806341, 13),\n",
              " (804911994717384705, 13),\n",
              " (2679666494, 13),\n",
              " (1375147815073050626, 13),\n",
              " (1292013258279329792, 13),\n",
              " (1289935140265680897, 13),\n",
              " (2461025077, 12),\n",
              " (1294264468243795968, 12),\n",
              " (1214557234836865028, 12),\n",
              " (1302895370981134336, 12),\n",
              " (1306326949497724929, 12),\n",
              " (1334000851258490880, 12),\n",
              " (919140608576557056, 12)]"
            ]
          },
          "execution_count": 53,
          "metadata": {},
          "output_type": "execute_result"
        }
      ],
      "source": [
        "f = counter.most_common(50)\n",
        "\n"
      ]
    },
    {
      "cell_type": "code",
      "execution_count": null,
      "metadata": {
        "id": "ZPeP3OqdIv_K"
      },
      "outputs": [],
      "source": [
        "from google.colab import drive\n",
        "drive.mount('/content/drive')"
      ]
    },
    {
      "cell_type": "markdown",
      "metadata": {
        "id": "QJNkf8LePg3h"
      },
      "source": [
        "First ID is me, as most people in the pes_folks list also follow me\n",
        "\n",
        "After this, IDs whose frequency is high, has a high probability of being in PES\n",
        "\n",
        "We can use any threshold number but I will use 20 as the threshold"
      ]
    },
    {
      "cell_type": "markdown",
      "metadata": {
        "id": "MDKuajKaP4AH"
      },
      "source": [
        "Run the code to get followers' followers' followers as shown above and use a threshold of 10 to get final nodes"
      ]
    },
    {
      "cell_type": "code",
      "execution_count": 33,
      "metadata": {
        "colab": {
          "base_uri": "https://localhost:8080/"
        },
        "id": "a2_oRe3WQVGn",
        "outputId": "229d84d5-3266-4bb6-ac57-c52b87fabbb9"
      },
      "outputs": [
        {
          "name": "stdout",
          "output_type": "stream",
          "text": [
            "51\n"
          ]
        }
      ],
      "source": [
        "#example for one user-\n",
        "user_list_curr = [1497823537679114241]              \n",
        "follower_list = []\n",
        "for user in user_list_curr:\n",
        "    followers = []\n",
        "    try:\n",
        "        for page in tweepy.Cursor(api.followers_ids, user_id=user).pages():\n",
        "            followers.extend(page)\n",
        "            print(len(followers))\n",
        "    except tweepy.TweepError:\n",
        "        print(\"error\")\n",
        "        continue\n",
        "    follower_list.append(followers)"
      ]
    },
    {
      "cell_type": "code",
      "execution_count": 35,
      "metadata": {
        "colab": {
          "base_uri": "https://localhost:8080/",
          "height": 624
        },
        "id": "nceL2Jv0QW4p",
        "outputId": "67bc4b66-b643-45b0-fc7a-5b75c9154c77"
      },
      "outputs": [
        {
          "data": {
            "text/html": [
              "\n",
              "  <div id=\"df-43cc2fa6-681b-49fd-830b-31b160cd9676\">\n",
              "    <div class=\"colab-df-container\">\n",
              "      <div>\n",
              "<style scoped>\n",
              "    .dataframe tbody tr th:only-of-type {\n",
              "        vertical-align: middle;\n",
              "    }\n",
              "\n",
              "    .dataframe tbody tr th {\n",
              "        vertical-align: top;\n",
              "    }\n",
              "\n",
              "    .dataframe thead th {\n",
              "        text-align: right;\n",
              "    }\n",
              "</style>\n",
              "<table border=\"1\" class=\"dataframe\">\n",
              "  <thead>\n",
              "    <tr style=\"text-align: right;\">\n",
              "      <th></th>\n",
              "      <th>source</th>\n",
              "      <th>target</th>\n",
              "    </tr>\n",
              "  </thead>\n",
              "  <tbody>\n",
              "    <tr>\n",
              "      <th>0</th>\n",
              "      <td>1497823537679114241</td>\n",
              "      <td>1150712699505897473</td>\n",
              "    </tr>\n",
              "    <tr>\n",
              "      <th>1</th>\n",
              "      <td>1497823537679114241</td>\n",
              "      <td>1104094260263972864</td>\n",
              "    </tr>\n",
              "    <tr>\n",
              "      <th>2</th>\n",
              "      <td>1497823537679114241</td>\n",
              "      <td>1473893833461043203</td>\n",
              "    </tr>\n",
              "    <tr>\n",
              "      <th>3</th>\n",
              "      <td>1497823537679114241</td>\n",
              "      <td>1281603283056910337</td>\n",
              "    </tr>\n",
              "    <tr>\n",
              "      <th>4</th>\n",
              "      <td>1497823537679114241</td>\n",
              "      <td>1305910070782251009</td>\n",
              "    </tr>\n",
              "    <tr>\n",
              "      <th>5</th>\n",
              "      <td>1497823537679114241</td>\n",
              "      <td>1429603854</td>\n",
              "    </tr>\n",
              "    <tr>\n",
              "      <th>6</th>\n",
              "      <td>1497823537679114241</td>\n",
              "      <td>775176739</td>\n",
              "    </tr>\n",
              "    <tr>\n",
              "      <th>7</th>\n",
              "      <td>1497823537679114241</td>\n",
              "      <td>1248995104817324034</td>\n",
              "    </tr>\n",
              "    <tr>\n",
              "      <th>8</th>\n",
              "      <td>1497823537679114241</td>\n",
              "      <td>1480861550114078721</td>\n",
              "    </tr>\n",
              "    <tr>\n",
              "      <th>9</th>\n",
              "      <td>1497823537679114241</td>\n",
              "      <td>1299075378116349953</td>\n",
              "    </tr>\n",
              "    <tr>\n",
              "      <th>10</th>\n",
              "      <td>1497823537679114241</td>\n",
              "      <td>1309430628488708098</td>\n",
              "    </tr>\n",
              "    <tr>\n",
              "      <th>11</th>\n",
              "      <td>1497823537679114241</td>\n",
              "      <td>1498649991052607489</td>\n",
              "    </tr>\n",
              "    <tr>\n",
              "      <th>12</th>\n",
              "      <td>1497823537679114241</td>\n",
              "      <td>1133076940842102784</td>\n",
              "    </tr>\n",
              "    <tr>\n",
              "      <th>13</th>\n",
              "      <td>1497823537679114241</td>\n",
              "      <td>1379709485325840387</td>\n",
              "    </tr>\n",
              "    <tr>\n",
              "      <th>14</th>\n",
              "      <td>1497823537679114241</td>\n",
              "      <td>1093091251463831554</td>\n",
              "    </tr>\n",
              "    <tr>\n",
              "      <th>15</th>\n",
              "      <td>1497823537679114241</td>\n",
              "      <td>834992149758255104</td>\n",
              "    </tr>\n",
              "    <tr>\n",
              "      <th>16</th>\n",
              "      <td>1497823537679114241</td>\n",
              "      <td>1098839084162789376</td>\n",
              "    </tr>\n",
              "    <tr>\n",
              "      <th>17</th>\n",
              "      <td>1497823537679114241</td>\n",
              "      <td>1242738027249586176</td>\n",
              "    </tr>\n",
              "    <tr>\n",
              "      <th>18</th>\n",
              "      <td>1497823537679114241</td>\n",
              "      <td>1300814862130360320</td>\n",
              "    </tr>\n",
              "    <tr>\n",
              "      <th>19</th>\n",
              "      <td>1497823537679114241</td>\n",
              "      <td>3308507935</td>\n",
              "    </tr>\n",
              "    <tr>\n",
              "      <th>20</th>\n",
              "      <td>1497823537679114241</td>\n",
              "      <td>4168701552</td>\n",
              "    </tr>\n",
              "    <tr>\n",
              "      <th>21</th>\n",
              "      <td>1497823537679114241</td>\n",
              "      <td>3034153315</td>\n",
              "    </tr>\n",
              "    <tr>\n",
              "      <th>22</th>\n",
              "      <td>1497823537679114241</td>\n",
              "      <td>955377674049929217</td>\n",
              "    </tr>\n",
              "    <tr>\n",
              "      <th>23</th>\n",
              "      <td>1497823537679114241</td>\n",
              "      <td>1436633331773231105</td>\n",
              "    </tr>\n",
              "    <tr>\n",
              "      <th>24</th>\n",
              "      <td>1497823537679114241</td>\n",
              "      <td>1182223571994628097</td>\n",
              "    </tr>\n",
              "    <tr>\n",
              "      <th>25</th>\n",
              "      <td>1497823537679114241</td>\n",
              "      <td>1497605466968723504</td>\n",
              "    </tr>\n",
              "    <tr>\n",
              "      <th>26</th>\n",
              "      <td>1497823537679114241</td>\n",
              "      <td>958759926549147649</td>\n",
              "    </tr>\n",
              "    <tr>\n",
              "      <th>27</th>\n",
              "      <td>1497823537679114241</td>\n",
              "      <td>1396421930929082369</td>\n",
              "    </tr>\n",
              "    <tr>\n",
              "      <th>28</th>\n",
              "      <td>1497823537679114241</td>\n",
              "      <td>1411892722999332865</td>\n",
              "    </tr>\n",
              "    <tr>\n",
              "      <th>29</th>\n",
              "      <td>1497823537679114241</td>\n",
              "      <td>1407321010030792706</td>\n",
              "    </tr>\n",
              "    <tr>\n",
              "      <th>30</th>\n",
              "      <td>1497823537679114241</td>\n",
              "      <td>1025097083882287104</td>\n",
              "    </tr>\n",
              "    <tr>\n",
              "      <th>31</th>\n",
              "      <td>1497823537679114241</td>\n",
              "      <td>1460180698556297221</td>\n",
              "    </tr>\n",
              "    <tr>\n",
              "      <th>32</th>\n",
              "      <td>1497823537679114241</td>\n",
              "      <td>1168038336541286400</td>\n",
              "    </tr>\n",
              "    <tr>\n",
              "      <th>33</th>\n",
              "      <td>1497823537679114241</td>\n",
              "      <td>2197201460</td>\n",
              "    </tr>\n",
              "    <tr>\n",
              "      <th>34</th>\n",
              "      <td>1497823537679114241</td>\n",
              "      <td>1366336069319335943</td>\n",
              "    </tr>\n",
              "    <tr>\n",
              "      <th>35</th>\n",
              "      <td>1497823537679114241</td>\n",
              "      <td>1260481048758149120</td>\n",
              "    </tr>\n",
              "    <tr>\n",
              "      <th>36</th>\n",
              "      <td>1497823537679114241</td>\n",
              "      <td>902853369332547585</td>\n",
              "    </tr>\n",
              "    <tr>\n",
              "      <th>37</th>\n",
              "      <td>1497823537679114241</td>\n",
              "      <td>1192409641273065473</td>\n",
              "    </tr>\n",
              "    <tr>\n",
              "      <th>38</th>\n",
              "      <td>1497823537679114241</td>\n",
              "      <td>2228020669</td>\n",
              "    </tr>\n",
              "    <tr>\n",
              "      <th>39</th>\n",
              "      <td>1497823537679114241</td>\n",
              "      <td>1428587673116037121</td>\n",
              "    </tr>\n",
              "    <tr>\n",
              "      <th>40</th>\n",
              "      <td>1497823537679114241</td>\n",
              "      <td>1436187424506277898</td>\n",
              "    </tr>\n",
              "    <tr>\n",
              "      <th>41</th>\n",
              "      <td>1497823537679114241</td>\n",
              "      <td>1472558789698019330</td>\n",
              "    </tr>\n",
              "    <tr>\n",
              "      <th>42</th>\n",
              "      <td>1497823537679114241</td>\n",
              "      <td>1268952216267902976</td>\n",
              "    </tr>\n",
              "    <tr>\n",
              "      <th>43</th>\n",
              "      <td>1497823537679114241</td>\n",
              "      <td>1147022537563357184</td>\n",
              "    </tr>\n",
              "    <tr>\n",
              "      <th>44</th>\n",
              "      <td>1497823537679114241</td>\n",
              "      <td>831682449864286208</td>\n",
              "    </tr>\n",
              "    <tr>\n",
              "      <th>45</th>\n",
              "      <td>1497823537679114241</td>\n",
              "      <td>3274572859</td>\n",
              "    </tr>\n",
              "    <tr>\n",
              "      <th>46</th>\n",
              "      <td>1497823537679114241</td>\n",
              "      <td>2469365941</td>\n",
              "    </tr>\n",
              "    <tr>\n",
              "      <th>47</th>\n",
              "      <td>1497823537679114241</td>\n",
              "      <td>1447946046449979396</td>\n",
              "    </tr>\n",
              "    <tr>\n",
              "      <th>48</th>\n",
              "      <td>1497823537679114241</td>\n",
              "      <td>1471504126890557446</td>\n",
              "    </tr>\n",
              "    <tr>\n",
              "      <th>49</th>\n",
              "      <td>1497823537679114241</td>\n",
              "      <td>1280037324504526848</td>\n",
              "    </tr>\n",
              "    <tr>\n",
              "      <th>50</th>\n",
              "      <td>1497823537679114241</td>\n",
              "      <td>1274587159584845825</td>\n",
              "    </tr>\n",
              "  </tbody>\n",
              "</table>\n",
              "</div>\n",
              "      <button class=\"colab-df-convert\" onclick=\"convertToInteractive('df-43cc2fa6-681b-49fd-830b-31b160cd9676')\"\n",
              "              title=\"Convert this dataframe to an interactive table.\"\n",
              "              style=\"display:none;\">\n",
              "        \n",
              "  <svg xmlns=\"http://www.w3.org/2000/svg\" height=\"24px\"viewBox=\"0 0 24 24\"\n",
              "       width=\"24px\">\n",
              "    <path d=\"M0 0h24v24H0V0z\" fill=\"none\"/>\n",
              "    <path d=\"M18.56 5.44l.94 2.06.94-2.06 2.06-.94-2.06-.94-.94-2.06-.94 2.06-2.06.94zm-11 1L8.5 8.5l.94-2.06 2.06-.94-2.06-.94L8.5 2.5l-.94 2.06-2.06.94zm10 10l.94 2.06.94-2.06 2.06-.94-2.06-.94-.94-2.06-.94 2.06-2.06.94z\"/><path d=\"M17.41 7.96l-1.37-1.37c-.4-.4-.92-.59-1.43-.59-.52 0-1.04.2-1.43.59L10.3 9.45l-7.72 7.72c-.78.78-.78 2.05 0 2.83L4 21.41c.39.39.9.59 1.41.59.51 0 1.02-.2 1.41-.59l7.78-7.78 2.81-2.81c.8-.78.8-2.07 0-2.86zM5.41 20L4 18.59l7.72-7.72 1.47 1.35L5.41 20z\"/>\n",
              "  </svg>\n",
              "      </button>\n",
              "      \n",
              "  <style>\n",
              "    .colab-df-container {\n",
              "      display:flex;\n",
              "      flex-wrap:wrap;\n",
              "      gap: 12px;\n",
              "    }\n",
              "\n",
              "    .colab-df-convert {\n",
              "      background-color: #E8F0FE;\n",
              "      border: none;\n",
              "      border-radius: 50%;\n",
              "      cursor: pointer;\n",
              "      display: none;\n",
              "      fill: #1967D2;\n",
              "      height: 32px;\n",
              "      padding: 0 0 0 0;\n",
              "      width: 32px;\n",
              "    }\n",
              "\n",
              "    .colab-df-convert:hover {\n",
              "      background-color: #E2EBFA;\n",
              "      box-shadow: 0px 1px 2px rgba(60, 64, 67, 0.3), 0px 1px 3px 1px rgba(60, 64, 67, 0.15);\n",
              "      fill: #174EA6;\n",
              "    }\n",
              "\n",
              "    [theme=dark] .colab-df-convert {\n",
              "      background-color: #3B4455;\n",
              "      fill: #D2E3FC;\n",
              "    }\n",
              "\n",
              "    [theme=dark] .colab-df-convert:hover {\n",
              "      background-color: #434B5C;\n",
              "      box-shadow: 0px 1px 3px 1px rgba(0, 0, 0, 0.15);\n",
              "      filter: drop-shadow(0px 1px 2px rgba(0, 0, 0, 0.3));\n",
              "      fill: #FFFFFF;\n",
              "    }\n",
              "  </style>\n",
              "\n",
              "      <script>\n",
              "        const buttonEl =\n",
              "          document.querySelector('#df-43cc2fa6-681b-49fd-830b-31b160cd9676 button.colab-df-convert');\n",
              "        buttonEl.style.display =\n",
              "          google.colab.kernel.accessAllowed ? 'block' : 'none';\n",
              "\n",
              "        async function convertToInteractive(key) {\n",
              "          const element = document.querySelector('#df-43cc2fa6-681b-49fd-830b-31b160cd9676');\n",
              "          const dataTable =\n",
              "            await google.colab.kernel.invokeFunction('convertToInteractive',\n",
              "                                                     [key], {});\n",
              "          if (!dataTable) return;\n",
              "\n",
              "          const docLinkHtml = 'Like what you see? Visit the ' +\n",
              "            '<a target=\"_blank\" href=https://colab.research.google.com/notebooks/data_table.ipynb>data table notebook</a>'\n",
              "            + ' to learn more about interactive tables.';\n",
              "          element.innerHTML = '';\n",
              "          dataTable['output_type'] = 'display_data';\n",
              "          await google.colab.output.renderOutput(dataTable, element);\n",
              "          const docLink = document.createElement('div');\n",
              "          docLink.innerHTML = docLinkHtml;\n",
              "          element.appendChild(docLink);\n",
              "        }\n",
              "      </script>\n",
              "    </div>\n",
              "  </div>\n",
              "  "
            ],
            "text/plain": [
              "                 source               target\n",
              "0   1497823537679114241  1150712699505897473\n",
              "1   1497823537679114241  1104094260263972864\n",
              "2   1497823537679114241  1473893833461043203\n",
              "3   1497823537679114241  1281603283056910337\n",
              "4   1497823537679114241  1305910070782251009\n",
              "5   1497823537679114241           1429603854\n",
              "6   1497823537679114241            775176739\n",
              "7   1497823537679114241  1248995104817324034\n",
              "8   1497823537679114241  1480861550114078721\n",
              "9   1497823537679114241  1299075378116349953\n",
              "10  1497823537679114241  1309430628488708098\n",
              "11  1497823537679114241  1498649991052607489\n",
              "12  1497823537679114241  1133076940842102784\n",
              "13  1497823537679114241  1379709485325840387\n",
              "14  1497823537679114241  1093091251463831554\n",
              "15  1497823537679114241   834992149758255104\n",
              "16  1497823537679114241  1098839084162789376\n",
              "17  1497823537679114241  1242738027249586176\n",
              "18  1497823537679114241  1300814862130360320\n",
              "19  1497823537679114241           3308507935\n",
              "20  1497823537679114241           4168701552\n",
              "21  1497823537679114241           3034153315\n",
              "22  1497823537679114241   955377674049929217\n",
              "23  1497823537679114241  1436633331773231105\n",
              "24  1497823537679114241  1182223571994628097\n",
              "25  1497823537679114241  1497605466968723504\n",
              "26  1497823537679114241   958759926549147649\n",
              "27  1497823537679114241  1396421930929082369\n",
              "28  1497823537679114241  1411892722999332865\n",
              "29  1497823537679114241  1407321010030792706\n",
              "30  1497823537679114241  1025097083882287104\n",
              "31  1497823537679114241  1460180698556297221\n",
              "32  1497823537679114241  1168038336541286400\n",
              "33  1497823537679114241           2197201460\n",
              "34  1497823537679114241  1366336069319335943\n",
              "35  1497823537679114241  1260481048758149120\n",
              "36  1497823537679114241   902853369332547585\n",
              "37  1497823537679114241  1192409641273065473\n",
              "38  1497823537679114241           2228020669\n",
              "39  1497823537679114241  1428587673116037121\n",
              "40  1497823537679114241  1436187424506277898\n",
              "41  1497823537679114241  1472558789698019330\n",
              "42  1497823537679114241  1268952216267902976\n",
              "43  1497823537679114241  1147022537563357184\n",
              "44  1497823537679114241   831682449864286208\n",
              "45  1497823537679114241           3274572859\n",
              "46  1497823537679114241           2469365941\n",
              "47  1497823537679114241  1447946046449979396\n",
              "48  1497823537679114241  1471504126890557446\n",
              "49  1497823537679114241  1280037324504526848\n",
              "50  1497823537679114241  1274587159584845825"
            ]
          },
          "execution_count": 35,
          "metadata": {},
          "output_type": "execute_result"
        }
      ],
      "source": [
        "df1 = pd.DataFrame(columns=['source','target'])\n",
        "df1['target'] = followers #Set the list of followers as the target column\n",
        "df1['source'] = 1497823537679114241 #Set my user ID as the source \n",
        "df1\n",
        "#need to add df1 to df_saved and continue adding the new followers of all in user_list (friends that are one level away)"
      ]
    },
    {
      "cell_type": "code",
      "execution_count": null,
      "metadata": {
        "id": "mlgQbErGPfzb"
      },
      "outputs": [],
      "source": [
        "one_level_away=[1472558789698019330,1242738027249586176,834992149758255104,831682449864286208,1300814862130360320,2838973913, \\\n",
        "                2876732521, 745566943080394752,795674214690918400, 1277835126236274688, 3320026471, 1251386586383527936, 3221574320]"
      ]
    },
    {
      "cell_type": "markdown",
      "metadata": {
        "id": "zxK5MNGWQA-z"
      },
      "source": []
    },
    {
      "cell_type": "code",
      "execution_count": 65,
      "metadata": {
        "colab": {
          "base_uri": "https://localhost:8080/"
        },
        "id": "h-hdyXP6P3OS",
        "outputId": "754b9c9a-65ed-42f8-9e1b-787c9e0af822"
      },
      "outputs": [
        {
          "data": {
            "text/plain": [
              "160"
            ]
          },
          "execution_count": 65,
          "metadata": {},
          "output_type": "execute_result"
        }
      ],
      "source": [
        "final_pes = list(pes_folks) + list(one_level_away)\n",
        "len(final_pes)"
      ]
    },
    {
      "cell_type": "code",
      "execution_count": 66,
      "metadata": {
        "id": "fLIp1l6RQE0K"
      },
      "outputs": [],
      "source": [
        "for index, row in df_saved.iterrows():\n",
        "    if row.target not in final_pes:\n",
        "        df_saved.drop(index, inplace=True)"
      ]
    },
    {
      "cell_type": "code",
      "execution_count": 67,
      "metadata": {
        "id": "2K2oZ--KQLzj"
      },
      "outputs": [],
      "source": [
        "df_saved.to_csv('updated_pes.csv')"
      ]
    },
    {
      "cell_type": "code",
      "execution_count": 68,
      "metadata": {
        "colab": {
          "base_uri": "https://localhost:8080/"
        },
        "id": "q0vVHa2cgDU2",
        "outputId": "3df3aaa2-1318-444a-b223-a3b0b4a18c14"
      },
      "outputs": [
        {
          "data": {
            "text/plain": [
              "[1477144962286243849,\n",
              " 473729548,\n",
              " 721713204980817927,\n",
              " 804978554312290304,\n",
              " 1147022537563357184,\n",
              " 1385123312875950087,\n",
              " 4695558013,\n",
              " 3113668031,\n",
              " 1110802279060234241,\n",
              " 1450829256,\n",
              " 821685274786856960,\n",
              " 764762412339769344,\n",
              " 1473893833461043203,\n",
              " 2853941888,\n",
              " 1480215352550178817,\n",
              " 1355217587714449409,\n",
              " 1506484559357317120,\n",
              " 1205472010773549056,\n",
              " 913734075587878912,\n",
              " 1157650232521265153,\n",
              " 3117377938,\n",
              " 1086542458647990272,\n",
              " 827629337809653761,\n",
              " 1079403117123391488,\n",
              " 1003170502972542976,\n",
              " 1017108564429627392,\n",
              " 2876732521,\n",
              " 3245358649,\n",
              " 1242738027249586176,\n",
              " 1267321207801516032,\n",
              " 924103024028483585,\n",
              " 1139124129188073477,\n",
              " 1249343092957655042,\n",
              " 1191711549678743552,\n",
              " 588244470,\n",
              " 1226363364131033088,\n",
              " 834992149758255104,\n",
              " 1268952216267902976,\n",
              " 833359275233652736,\n",
              " 1418346760607395842,\n",
              " 1284839845861273602,\n",
              " 1497605466968723504,\n",
              " 1429603854,\n",
              " 1317498004199256064,\n",
              " 958759926549147649,\n",
              " 1257788962111799296,\n",
              " 1283378917168934913,\n",
              " 304837903,\n",
              " 1384750065047130114,\n",
              " 1303161128873156608,\n",
              " 1483029280699588608,\n",
              " 1192409641273065473,\n",
              " 1412783242260881415,\n",
              " 1475691974845886464,\n",
              " 4168701552,\n",
              " 1116602726270390273,\n",
              " 1428587673116037121,\n",
              " 802416910813933568,\n",
              " 610131860,\n",
              " 1280037324504526848,\n",
              " 1351451066622119937,\n",
              " 3274985820,\n",
              " 3274572859,\n",
              " 730358072506519552,\n",
              " 4798666566,\n",
              " 1287594949228150784,\n",
              " 1004642350553968640,\n",
              " 1467861251459936257,\n",
              " 745566943080394752,\n",
              " 1247213980797427724,\n",
              " 1231447679814656000,\n",
              " 1327638262920273920,\n",
              " 860040731674775552,\n",
              " 1300814862130360320,\n",
              " 831682449864286208,\n",
              " 1135751408802680832,\n",
              " 1613156095,\n",
              " 795674214690918400,\n",
              " 1249295950549401600,\n",
              " 4089979760,\n",
              " 1472558789698019330,\n",
              " 771622961153396736,\n",
              " 1460180698556297221,\n",
              " 883720758723092480,\n",
              " 1382680394349236228,\n",
              " 1471725223082745858,\n",
              " 1379709485325840387,\n",
              " 1138020332437008385,\n",
              " 1471504126890557446,\n",
              " 3034153315,\n",
              " 3320026471,\n",
              " 1277807884861009921,\n",
              " 1266962455147671552,\n",
              " 778520107177738240,\n",
              " 1277637088842784769,\n",
              " 1250017084890726405,\n",
              " 1357736121535397888,\n",
              " 3196077097,\n",
              " 1459440380345159682,\n",
              " 1468957860,\n",
              " 1345469474791591936,\n",
              " 2838973913,\n",
              " 1282017061573668866,\n",
              " 3220242762,\n",
              " 1451553004969103362,\n",
              " 1305910070782251009,\n",
              " 1344738920,\n",
              " 1008363599226720256,\n",
              " 1253539463751319552,\n",
              " 1071853071142141952,\n",
              " 1447084409018990595,\n",
              " 1184475769482825728,\n",
              " 3269140134,\n",
              " 1403983669908303874,\n",
              " 785833074319818752,\n",
              " 902853369332547585,\n",
              " 1277835126236274688,\n",
              " 725384293766291456,\n",
              " 1436187424506277898,\n",
              " 1154274912703356928,\n",
              " 3167392476,\n",
              " 780439554784366592,\n",
              " 1098839084162789376,\n",
              " 1273713079587463173,\n",
              " 850556860411269121,\n",
              " 2469365941,\n",
              " 1366336069319335943,\n",
              " 1355748483127369730,\n",
              " 2872401203,\n",
              " 837163154639462401,\n",
              " 282036690,\n",
              " 705763745079791617,\n",
              " 1248995104817324034,\n",
              " 1262033924554813446,\n",
              " 746327100257271816,\n",
              " 1274985634281615360,\n",
              " 1265590858625105921,\n",
              " 1150712699505897473,\n",
              " 1497823537679114241,\n",
              " 1278655748768063490,\n",
              " 3221574320,\n",
              " 1139519706698665984,\n",
              " 1146263752125374464,\n",
              " 1133076940842102784,\n",
              " 3254808349,\n",
              " 1253945298461708291,\n",
              " 1431620243307188224,\n",
              " 1148825471338991616,\n",
              " 1104094260263972864,\n",
              " 1251386586383527936,\n",
              " 1457724829465935874,\n",
              " 1015680244768837632,\n",
              " 719932046726995970,\n",
              " 1000797725917499393,\n",
              " 1305531562243489793,\n",
              " 893383768324554753,\n",
              " 3308507935,\n",
              " 1168038336541286400,\n",
              " 1502307527882862595,\n",
              " 1269857831231975424]"
            ]
          },
          "execution_count": 68,
          "metadata": {},
          "output_type": "execute_result"
        }
      ],
      "source": [
        "final_pes"
      ]
    },
    {
      "cell_type": "code",
      "execution_count": null,
      "metadata": {
        "id": "W0MdBrt7g2bS"
      },
      "outputs": [],
      "source": []
    }
  ],
  "metadata": {
    "colab": {
      "collapsed_sections": [],
      "name": "Copy of Scraping twitter data.ipynb",
      "provenance": []
    },
    "kernelspec": {
      "display_name": "Python 3",
      "name": "python3"
    },
    "language_info": {
      "name": "python"
    }
  },
  "nbformat": 4,
  "nbformat_minor": 0
}
